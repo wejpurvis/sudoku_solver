{
 "cells": [
  {
   "cell_type": "markdown",
   "metadata": {},
   "source": [
    "## Notebook to test out profiling"
   ]
  },
  {
   "cell_type": "markdown",
   "metadata": {},
   "source": [
    "To profile my backtracking algorithm I modified the `main()` in my `main.py` file so that it doesn't take any command line arguments.\n",
    "\n",
    "Here is the modified function:\n",
    "\n",
    "```python\n",
    "import cProfile\n",
    "\n",
    "def profiled_main(sudoku_path):\n",
    "    \"\"\"\n",
    "    Profiled version of main function that handles the execution of the Sudoku solver program.\n",
    "    Note: This function is used for profiling the program using cProfile and therefore does not handle user input.\n",
    "\n",
    "    Parameters\n",
    "    ----------\n",
    "        sudoku_path (str): Path to the input sudoku file.\n",
    "\n",
    "    Returns\n",
    "    ----------\n",
    "        str: The solved sudoku.\n",
    "    \"\"\"\n",
    "    with open(sudoku_path, \"r\") as f:\n",
    "        input_sudoku = f.read()\n",
    "\n",
    "    sudoku_board = parse_grid(input_sudoku)\n",
    "    print(f\"Uploaded sudoku:\\n\\n{input_sudoku}\")\n",
    "    solved_sudoku = solveBacktrack(sudoku_board, 0, 0)\n",
    "    print(f\"Solved sudoku:\\n\\n{displaySudoku(solved_sudoku)}\")\n",
    "    return 0\n",
    "```\n",
    "\n",
    "The function is the called using the following:\n",
    "\n",
    "```python\n",
    "if __name__ == \"__main__\":\n",
    "    input_file_path = \"test/example_sudokus/hard_sudoku2.txt\"\n",
    "    cProfile.run(\"profiled_main(input_file_path)\")\n",
    "```"
   ]
  },
  {
   "cell_type": "markdown",
   "metadata": {},
   "source": [
    "Results using `hard_sudoku1.txt`:\n",
    "\n",
    "```txt\n",
    "380|000|000\n",
    "000|400|785\n",
    "009|020|300\n",
    "---+---+---\n",
    "060|090|000\n",
    "800|302|009\n",
    "000|040|070\n",
    "---+---+---\n",
    "001|070|500\n",
    "495|006|000\n",
    "000|000|092\n",
    "```\n",
    "\n",
    "```bash\n",
    "         63146 function calls (57406 primitive calls) in 0.169 seconds\n",
    "\n",
    "   Ordered by: standard name\n",
    "\n",
    "   ncalls  tottime  percall  cumtime  percall filename:lineno(function)\n",
    "        1    0.000    0.000    0.000    0.000 <frozen codecs>:260(__init__)\n",
    "        1    0.000    0.000    0.169    0.169 <string>:1(<module>)\n",
    "   5741/1    0.022    0.000    0.163    0.163 backtracking.py:117(solveBacktrack)\n",
    "    51425    0.118    0.000    0.118    0.000 backtracking.py:14(validateCell)\n",
    "     5741    0.022    0.000    0.022    0.000 backtracking.py:95(findEmptyCell)\n",
    "        1    0.000    0.000    0.000    0.000 cp1252.py:22(decode)\n",
    "        1    0.000    0.000    0.169    0.169 main.py:161(profiled_main)\n",
    "        1    0.000    0.000    0.000    0.000 utils.py:155(displaySudoku)\n",
    "        1    0.000    0.000    0.000    0.000 utils.py:9(parse_grid)\n",
    "        1    0.000    0.000    0.000    0.000 {built-in method _codecs.charmap_decode}\n",
    "        1    0.000    0.000    0.000    0.000 {built-in method _io.open}\n",
    "        1    0.000    0.000    0.169    0.169 {built-in method builtins.exec}\n",
    "        1    0.000    0.000    0.000    0.000 {built-in method builtins.isinstance}\n",
    "       11    0.000    0.000    0.000    0.000 {built-in method builtins.len}\n",
    "        2    0.006    0.003    0.006    0.003 {built-in method builtins.print}\n",
    "        1    0.000    0.000    0.000    0.000 {method '__exit__' of '_io._IOBase' objects}\n",
    "      213    0.000    0.000    0.000    0.000 {method 'append' of 'list' objects}\n",
    "        1    0.000    0.000    0.000    0.000 {method 'disable' of '_lsprof.Profiler' objects}\n",
    "        1    0.000    0.000    0.000    0.000 {method 'read' of '_io.TextIOWrapper' objects}\n",
    "```"
   ]
  },
  {
   "cell_type": "markdown",
   "metadata": {},
   "source": [
    "Results using `hard_sudoku2.txt`:\n",
    "\n",
    "```text\n",
    "850|002|400\n",
    "720|000|009\n",
    "004|000|000\n",
    "---+---+---\n",
    "000|107|002\n",
    "305|000|900\n",
    "040|000|000\n",
    "---+---+---\n",
    "000|080|070\n",
    "017|000|000\n",
    "000|036|040\n",
    "```\n",
    "\n",
    "```bash\n",
    "         3692014 function calls (3356377 primitive calls) in 9.045 seconds\n",
    "\n",
    "   Ordered by: standard name\n",
    "\n",
    "   ncalls  tottime  percall  cumtime  percall filename:lineno(function)\n",
    "        1    0.000    0.000    0.000    0.000 <frozen codecs>:260(__init__)\n",
    "        1    0.000    0.000    9.045    9.045 <string>:1(<module>)\n",
    " 335638/1    1.194    0.000    9.042    9.042 backtracking.py:117(solveBacktrack)\n",
    "  3020499    6.524    0.000    6.524    0.000 backtracking.py:14(validateCell)\n",
    "   335638    1.324    0.000    1.324    0.000 backtracking.py:95(findEmptyCell)\n",
    "        1    0.000    0.000    0.000    0.000 cp1252.py:22(decode)\n",
    "        1    0.000    0.000    9.045    9.045 main.py:161(profiled_main)\n",
    "        1    0.000    0.000    0.000    0.000 utils.py:155(displaySudoku)\n",
    "        1    0.000    0.000    0.000    0.000 utils.py:9(parse_grid)\n",
    "        1    0.000    0.000    0.000    0.000 {built-in method _codecs.charmap_decode}\n",
    "        1    0.000    0.000    0.000    0.000 {built-in method _io.open}\n",
    "        1    0.000    0.000    9.045    9.045 {built-in method builtins.exec}\n",
    "        1    0.000    0.000    0.000    0.000 {built-in method builtins.isinstance}\n",
    "       11    0.000    0.000    0.000    0.000 {built-in method builtins.len}\n",
    "        2    0.002    0.001    0.002    0.001 {built-in method builtins.print}\n",
    "        1    0.000    0.000    0.000    0.000 {method '__exit__' of '_io._IOBase' objects}\n",
    "      213    0.000    0.000    0.000    0.000 {method 'append' of 'list' objects}\n",
    "        1    0.000    0.000    0.000    0.000 {method 'disable' of '_lsprof.Profiler' objects}\n",
    "        1    0.000    0.000    0.000    0.000 {method 'read' of '_io.TextIOWrapper' objects}\n",
    "```"
   ]
  },
  {
   "cell_type": "markdown",
   "metadata": {},
   "source": [
    "From the above, the backtracking algorithm is what is slowing the speed of my program. I now investigate the backtracking algorithm itself"
   ]
  },
  {
   "cell_type": "code",
   "execution_count": 93,
   "metadata": {},
   "outputs": [],
   "source": [
    "from backtracking import solveBacktrack, validateCell, findEmptyCell\n",
    "from utils import parse_grid\n",
    "\n",
    "with open(\"../test/example_sudokus/hard_sudoku1.txt\", \"r\") as f:\n",
    "    hard_sudoku1 = f.read()\n",
    "\n",
    "with open(\"../test/example_sudokus/hard_sudoku2.txt\", \"r\") as f:\n",
    "    hard_sudoku2 = f.read()\n",
    "\n",
    "with open(\"../test/example_sudokus/hard_sudoku3.txt\", \"r\") as f:\n",
    "    hard_sudoku3 = f.read()\n",
    "\n",
    "hard_sudoku1 = parse_grid(hard_sudoku1)\n",
    "hard_sudoku2 = parse_grid(hard_sudoku2)\n",
    "hard_sudoku3 = parse_grid(hard_sudoku3)"
   ]
  },
  {
   "cell_type": "markdown",
   "metadata": {},
   "source": [
    "Profiling `backtracking.py` gives:\n",
    "\n",
    "```bash\n",
    "(c1_coursework_wp289) C:\\Users\\William Purvis\\OneDrive - University of Cambridge\\DIS\\Michealmas\\RC_coursework\\wp289>python src/backtracking.py\n",
    "         3691778 function calls (3356141 primitive calls) in 8.904 seconds\n",
    "\n",
    "   Ordered by: standard name\n",
    "\n",
    "   ncalls  tottime  percall  cumtime  percall filename:lineno(function)\n",
    "        1    0.000    0.000    8.904    8.904 <string>:1(<module>)\n",
    " 335638/1    1.183    0.000    8.904    8.904 backtracking.py:118(solveBacktrack)\n",
    "  3020499    6.408    0.000    6.408    0.000 backtracking.py:15(validateCell)\n",
    "   335638    1.313    0.000    1.313    0.000 backtracking.py:96(findEmptyCell)\n",
    "        1    0.000    0.000    8.904    8.904 {built-in method builtins.exec}\n",
    "        1    0.000    0.000    0.000    0.000 {method 'disable' of '_lsprof.Profiler' objects}\n",
    "```"
   ]
  },
  {
   "cell_type": "markdown",
   "metadata": {},
   "source": [
    "I then downloaded 1 million sudoku boards from [kaggle](https://www.kaggle.com/datasets/bryanpark/sudoku/) and randomly sampled 1000 boards to test my algorithm on.\n",
    "\n",
    "Here is the code I used to get 1000 boards in the correct format:\n",
    "\n",
    "```python\n",
    "import pandas as pd\n",
    "import numpy as np\n",
    "import pickle\n",
    "\n",
    "np.random.seed(42)\n",
    "\n",
    "all_sudoku = pd.read_csv('sudoku.csv', header=None)\n",
    "quizzes = all_sudoku.iloc[1:, 0]\n",
    "\n",
    "# randomly select 1000 sudoku\n",
    "test_quizzes = quizzes.sample(n=1000)\n",
    "test_quizzes = np.array(test_quizzes)\n",
    "\n",
    "sudoku_boards = [np.array(list(map(int, quiz))).reshape(9, 9).tolist() \n",
    "                for quiz in test_quizzes]\n",
    "\n",
    "with open('test_sudoku_boards.pkl', 'wb') as f:\n",
    "    pickle.dump(sudoku_boards, f)\n",
    "```"
   ]
  },
  {
   "cell_type": "markdown",
   "metadata": {},
   "source": [
    "### Profiling current backtracking implementation (V1.0.0)\n",
    "\n",
    "In this next section, the 1.0.0 version of my algorithm is tested on the 10000 sudokus from kaggle"
   ]
  },
  {
   "cell_type": "code",
   "execution_count": 36,
   "metadata": {},
   "outputs": [],
   "source": [
    "import pickle\n",
    "import time\n",
    "import copy\n",
    "from backtracking import solveBacktrack\n",
    "\n",
    "# load 1000 sudokus\n",
    "with open(\"../test/example_sudokus/tenk_sudoku_boards.pkl\", \"rb\") as f:\n",
    "    loaded_boards = pickle.load(f)\n",
    "\n",
    "# run solver on 1000 boards\n",
    "time_to_solve = []\n",
    "for board in loaded_boards:\n",
    "    board_copy = copy.deepcopy(board)\n",
    "    start_time = time.time()\n",
    "    sudoku1_solved = solveBacktrack(board_copy, 0, 0)\n",
    "    end_time = time.time()\n",
    "    time_to_solve.append(end_time - start_time)"
   ]
  },
  {
   "cell_type": "code",
   "execution_count": 40,
   "metadata": {},
   "outputs": [
    {
     "name": "stdout",
     "output_type": "stream",
     "text": [
      "Average time to solve 10,000 boards: 0.001658\n",
      "Standard deviation: 0.004571\n"
     ]
    }
   ],
   "source": [
    "import numpy as np\n",
    "\n",
    "print(f\"Average time to solve 10,000 boards: {np.mean(time_to_solve):.6f}\")\n",
    "print(f\"Standard deviation: {np.std(time_to_solve):.6f}\")"
   ]
  },
  {
   "cell_type": "code",
   "execution_count": 55,
   "metadata": {},
   "outputs": [
    {
     "name": "stdout",
     "output_type": "stream",
     "text": [
      "Time to solve hard sudoku 3: 2320.798187\n"
     ]
    }
   ],
   "source": [
    "hard_sudoku2_copy = copy.deepcopy(hard_sudoku2)\n",
    "hard_sudoku3_copy = copy.deepcopy(hard_sudoku3)\n",
    "\n",
    "start_time = time.time()\n",
    "sudoku3_solved = solveBacktrack(hard_sudoku3_copy, 81, 81)\n",
    "end_time = time.time()\n",
    "print(f\"Time to solve hard sudoku 3: {end_time - start_time:.6f}\")"
   ]
  },
  {
   "cell_type": "code",
   "execution_count": 57,
   "metadata": {},
   "outputs": [
    {
     "name": "stdout",
     "output_type": "stream",
     "text": [
      "Time to solve hard sudoku 2: 4.518573 s\n"
     ]
    }
   ],
   "source": [
    "start_time = time.time()\n",
    "sudoku2_solved = solveBacktrack(hard_sudoku2_copy, 81, 81)\n",
    "end_time = time.time()\n",
    "print(f\"Time to solve hard sudoku 2: {end_time - start_time:.6f} s\")"
   ]
  },
  {
   "cell_type": "markdown",
   "metadata": {},
   "source": [
    "Using MRV heuristics + backtracking on `hard_sudoku2`:\n",
    "\n",
    "```txt\n",
    "Solved sudoku in 1.8709 seconds. using MRV\n",
    "Solved sudoku in 4.0468 seconds. without MRV\n",
    "```\n",
    "\n",
    "`hard_sudoku3` took `2320.798187` seconds to solve without MRV. Using MRV this reduces to:\n",
    "\n",
    "```txt\n",
    "Solved sudoku in 20.3896 seconds. using MRV\n",
    "```"
   ]
  },
  {
   "cell_type": "markdown",
   "metadata": {},
   "source": [
    "Using `cProfile` on `hard_sudoku2.txt`.\n",
    "\n",
    "Without MRV:\n",
    "\n",
    "```txt\n",
    "         3691778 function calls (3356141 primitive calls) in 11.029 seconds\n",
    "\n",
    "   Ordered by: standard name\n",
    "\n",
    "   ncalls  tottime  percall  cumtime  percall filename:lineno(function)\n",
    "        1    0.000    0.000   11.029   11.029 <string>:1(<module>)\n",
    "   335638    1.712    0.000    1.712    0.000 backtracking.py:100(findEmptyCell)\n",
    " 335638/1    1.478    0.000   11.029   11.029 backtracking.py:124(solveBacktrack)\n",
    "  3020499    7.838    0.000    7.838    0.000 backtracking.py:18(validateCell)\n",
    "        1    0.000    0.000   11.029   11.029 {built-in method builtins.exec}\n",
    "        1    0.000    0.000    0.000    0.000 {method 'disable' of '_lsprof.Profiler' objects}\n",
    "```\n",
    "\n",
    "With MRV:\n",
    "\n",
    "```txt\n",
    "         1419837 function calls (1415801 primitive calls) in 4.559 seconds\n",
    "\n",
    "   Ordered by: standard name\n",
    "\n",
    "   ncalls  tottime  percall  cumtime  percall filename:lineno(function)\n",
    "        1    0.000    0.000    4.559    4.559 <string>:1(<module>)\n",
    "     4037    0.092    0.000    4.445    0.001 backtracking2.py:117(find_empty_cell_MRV)\n",
    "   4037/1    0.021    0.000    4.559    4.559 backtracking2.py:153(solve_backtrack_MRV)\n",
    "  1274193    3.960    0.000    3.960    0.000 backtracking2.py:8(validate_cell)\n",
    "   137567    0.486    0.000    4.353    0.000 backtracking2.py:90(n_possible_values)\n",
    "        1    0.000    0.000    4.559    4.559 {built-in method builtins.exec}\n",
    "        1    0.000    0.000    0.000    0.000 {method 'disable' of '_lsprof.Profiler' objects}\n",
    "```"
   ]
  },
  {
   "cell_type": "markdown",
   "metadata": {},
   "source": [
    "Using `cProfile` on `hard_sudoku3.txt`.\n",
    "\n",
    "Without MRV:\n",
    "\n",
    "```txt\n",
    "        760928234 function calls (691752918 primitive calls) in 2320.798 seconds\n",
    "\n",
    "   Ordered by: standard name\n",
    "\n",
    "   ncalls  tottime  percall  cumtime  percall filename:lineno(function)\n",
    "        1    0.000    0.000 2132.140 2132.140 <string>:1(<module>)\n",
    " 69175317  320.649    0.000  320.649    0.000 backtracking.py:100(findEmptyCell)\n",
    "69175317/1  283.327    0.000 2132.140 2132.140 backtracking.py:124(solveBacktrack)\n",
    "622577597 1528.164    0.000 1528.164    0.000 backtracking.py:18(validateCell)\n",
    "        1    0.000    0.000 2132.140 2132.140 {built-in method builtins.exec}\n",
    "        1    0.000    0.000    0.000    0.000 {method 'disable' of '_lsprof.Profiler' objects}\n",
    "```\n",
    "\n",
    "With MRV\n",
    "\n",
    "```txt\n",
    "         16346635 function calls (16301368 primitive calls) in 42.844 seconds\n",
    "\n",
    "   Ordered by: standard name\n",
    "\n",
    "   ncalls  tottime  percall  cumtime  percall filename:lineno(function)\n",
    "        1    0.000    0.000   42.843   42.843 <string>:1(<module>)\n",
    "    45268    0.781    0.000   41.799    0.001 backtracking2.py:117(find_empty_cell_MRV)\n",
    "  45268/1    0.173    0.000   42.843   42.843 backtracking2.py:153(solve_backtrack_MRV)\n",
    " 14671202   37.379    0.000   37.379    0.000 backtracking2.py:8(validate_cell)\n",
    "  1584894    4.511    0.000   41.019    0.000 backtracking2.py:90(n_possible_values)\n",
    "        1    0.000    0.000   42.844   42.844 {built-in method builtins.exec}\n",
    "        1    0.000    0.000    0.000    0.000 {method 'disable' of '_lsprof.Profiler' objects}\n",
    "```"
   ]
  },
  {
   "cell_type": "markdown",
   "metadata": {},
   "source": [
    "Running backtracking and backtracking + MRV on 10,000 sudokus:\n",
    "\n",
    "```txt\n",
    "(c1_coursework_wp289) C:\\Users\\William Purvis\\OneDrive - University of Cambridge\\DIS\\Michealmas\\RC_coursework\\wp289>python src/profiling.py\n",
    "100%|███████████████████████████████████████████████████████████████████████████████████████████████████████████████████| 10000/10000 [00:16<00:00, 596.71it/s]\n",
    "100%|████████████████████████████████████████████████████████████████████████████████████████████████████████████████| 10000/10000 [00:00<00:00, 138893.90it/s] \n",
    "Average time to solve sudoku with backtracking:\n",
    "0.001666 seconds\n",
    "Standard deviation: 0.002081 seconds\n",
    "Average time to solve sudoku with backtracking and MRV heuristics:\n",
    "0.000007 seconds\n",
    "Standard deviation: 0.000083 seconds\n",
    "\n",
    "```"
   ]
  },
  {
   "cell_type": "markdown",
   "metadata": {},
   "source": [
    "Using cython on `hard_sudoku2` and `hard_sudoku3`:\n",
    "\n",
    "```txt\n",
    "Time taken to solve hard_sudoku2: 0.604491\n",
    "Time taken to solve hard_sudoku3: 5.314255\n",
    "```\n",
    "Using cProfile for `hard_sudoku3`:\n",
    "\n",
    "```txt\n",
    "         3 function calls in 5.403 seconds\n",
    "\n",
    "   Ordered by: standard name\n",
    "\n",
    "   ncalls  tottime  percall  cumtime  percall filename:lineno(function)\n",
    "        1    5.403    5.403    5.403    5.403 <string>:1(<module>)\n",
    "        1    0.000    0.000    5.403    5.403 {built-in method builtins.exec}\n",
    "        1    0.000    0.000    0.000    0.000 {method 'disable' of '_lsprof.Profiler' objects}\n",
    "```\n",
    "\n",
    "I then changed the input for my cython functions from list of lists which are native to python, to c arrays. This improved performance even further:\n",
    "\n",
    "```txt\n",
    "Time taken to solve hard_sudoku2: 0.075638\n",
    "Time taken to solve hard_sudoku3: 1.051183\n",
    "```\n",
    "\n",
    "Using cProfile for `hard_sudoku3`:\n",
    "\n",
    "```txt\n",
    "         3 function calls in 0.815 seconds\n",
    "\n",
    "   Ordered by: standard name\n",
    "\n",
    "   ncalls  tottime  percall  cumtime  percall filename:lineno(function)\n",
    "        1    0.815    0.815    0.815    0.815 <string>:1(<module>)\n",
    "        1    0.000    0.000    0.815    0.815 {built-in method builtins.exec}\n",
    "        1    0.000    0.000    0.000    0.000 {method 'disable' of '_lsprof.Profiler' objects}\n",
    "\n",
    "```"
   ]
  },
  {
   "cell_type": "code",
   "execution_count": null,
   "metadata": {},
   "outputs": [],
   "source": []
  }
 ],
 "metadata": {
  "kernelspec": {
   "display_name": "c1_coursework_wp289",
   "language": "python",
   "name": "python3"
  },
  "language_info": {
   "codemirror_mode": {
    "name": "ipython",
    "version": 3
   },
   "file_extension": ".py",
   "mimetype": "text/x-python",
   "name": "python",
   "nbconvert_exporter": "python",
   "pygments_lexer": "ipython3",
   "version": "3.12.0"
  }
 },
 "nbformat": 4,
 "nbformat_minor": 2
}
