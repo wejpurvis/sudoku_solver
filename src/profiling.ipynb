{
 "cells": [
  {
   "cell_type": "markdown",
   "metadata": {},
   "source": [
    "## Notebook to test out profiling"
   ]
  },
  {
   "cell_type": "markdown",
   "metadata": {},
   "source": [
    "To profile my backtracking algorithm I modified the `main()` in my `main.py` file so that it doesn't take any command line arguments.\n",
    "\n",
    "Here is the modified function:\n",
    "\n",
    "```python\n",
    "def profiled_main(sudoku_path):\n",
    "    \"\"\"\n",
    "    Profiled version of main function that handles the execution of the Sudoku solver program.\n",
    "    Note: This function is used for profiling the program using cProfile and therefore does not handle user input.\n",
    "\n",
    "    Parameters\n",
    "    ----------\n",
    "        sudoku_path (str): Path to the input sudoku file.\n",
    "\n",
    "    Returns\n",
    "    ----------\n",
    "        str: The solved sudoku.\n",
    "    \"\"\"\n",
    "    with open(sudoku_path, \"r\") as f:\n",
    "        input_sudoku = f.read()\n",
    "\n",
    "    sudoku_board = parse_grid(input_sudoku)\n",
    "    print(f\"Uploaded sudoku:\\n\\n{input_sudoku}\")\n",
    "    solved_sudoku = solveBacktrack(sudoku_board, 0, 0)\n",
    "    print(f\"Solved sudoku:\\n\\n{displaySudoku(solved_sudoku)}\")\n",
    "    return 0\n",
    "```\n",
    "\n",
    "The function is the called using the following:\n",
    "\n",
    "```python\n",
    "if __name__ == \"__main__\":\n",
    "    input_file_path = \"test/example_sudokus/hard_sudoku2.txt\"\n",
    "    cProfile.run(\"profiled_main(input_file_path)\")\n",
    "```"
   ]
  },
  {
   "cell_type": "markdown",
   "metadata": {},
   "source": [
    "Results using `hard_sudoku1.txt`:\n",
    "\n",
    "```txt\n",
    "380|000|000\n",
    "000|400|785\n",
    "009|020|300\n",
    "---+---+---\n",
    "060|090|000\n",
    "800|302|009\n",
    "000|040|070\n",
    "---+---+---\n",
    "001|070|500\n",
    "495|006|000\n",
    "000|000|092\n",
    "```\n",
    "\n",
    "```bash\n",
    "         63146 function calls (57406 primitive calls) in 0.169 seconds\n",
    "\n",
    "   Ordered by: standard name\n",
    "\n",
    "   ncalls  tottime  percall  cumtime  percall filename:lineno(function)\n",
    "        1    0.000    0.000    0.000    0.000 <frozen codecs>:260(__init__)\n",
    "        1    0.000    0.000    0.169    0.169 <string>:1(<module>)\n",
    "   5741/1    0.022    0.000    0.163    0.163 backtracking.py:117(solveBacktrack)\n",
    "    51425    0.118    0.000    0.118    0.000 backtracking.py:14(validateCell)\n",
    "     5741    0.022    0.000    0.022    0.000 backtracking.py:95(findEmptyCell)\n",
    "        1    0.000    0.000    0.000    0.000 cp1252.py:22(decode)\n",
    "        1    0.000    0.000    0.169    0.169 main.py:161(profiled_main)\n",
    "        1    0.000    0.000    0.000    0.000 utils.py:155(displaySudoku)\n",
    "        1    0.000    0.000    0.000    0.000 utils.py:9(parse_grid)\n",
    "        1    0.000    0.000    0.000    0.000 {built-in method _codecs.charmap_decode}\n",
    "        1    0.000    0.000    0.000    0.000 {built-in method _io.open}\n",
    "        1    0.000    0.000    0.169    0.169 {built-in method builtins.exec}\n",
    "        1    0.000    0.000    0.000    0.000 {built-in method builtins.isinstance}\n",
    "       11    0.000    0.000    0.000    0.000 {built-in method builtins.len}\n",
    "        2    0.006    0.003    0.006    0.003 {built-in method builtins.print}\n",
    "        1    0.000    0.000    0.000    0.000 {method '__exit__' of '_io._IOBase' objects}\n",
    "      213    0.000    0.000    0.000    0.000 {method 'append' of 'list' objects}\n",
    "        1    0.000    0.000    0.000    0.000 {method 'disable' of '_lsprof.Profiler' objects}\n",
    "        1    0.000    0.000    0.000    0.000 {method 'read' of '_io.TextIOWrapper' objects}\n",
    "```"
   ]
  },
  {
   "cell_type": "markdown",
   "metadata": {},
   "source": [
    "Results using `hard_sudoku2.txt`:\n",
    "\n",
    "```text\n",
    "850|002|400\n",
    "720|000|009\n",
    "004|000|000\n",
    "---+---+---\n",
    "000|107|002\n",
    "305|000|900\n",
    "040|000|000\n",
    "---+---+---\n",
    "000|080|070\n",
    "017|000|000\n",
    "000|036|040\n",
    "```\n",
    "\n",
    "```bash\n",
    "         3692014 function calls (3356377 primitive calls) in 9.045 seconds\n",
    "\n",
    "   Ordered by: standard name\n",
    "\n",
    "   ncalls  tottime  percall  cumtime  percall filename:lineno(function)\n",
    "        1    0.000    0.000    0.000    0.000 <frozen codecs>:260(__init__)\n",
    "        1    0.000    0.000    9.045    9.045 <string>:1(<module>)\n",
    " 335638/1    1.194    0.000    9.042    9.042 backtracking.py:117(solveBacktrack)\n",
    "  3020499    6.524    0.000    6.524    0.000 backtracking.py:14(validateCell)\n",
    "   335638    1.324    0.000    1.324    0.000 backtracking.py:95(findEmptyCell)\n",
    "        1    0.000    0.000    0.000    0.000 cp1252.py:22(decode)\n",
    "        1    0.000    0.000    9.045    9.045 main.py:161(profiled_main)\n",
    "        1    0.000    0.000    0.000    0.000 utils.py:155(displaySudoku)\n",
    "        1    0.000    0.000    0.000    0.000 utils.py:9(parse_grid)\n",
    "        1    0.000    0.000    0.000    0.000 {built-in method _codecs.charmap_decode}\n",
    "        1    0.000    0.000    0.000    0.000 {built-in method _io.open}\n",
    "        1    0.000    0.000    9.045    9.045 {built-in method builtins.exec}\n",
    "        1    0.000    0.000    0.000    0.000 {built-in method builtins.isinstance}\n",
    "       11    0.000    0.000    0.000    0.000 {built-in method builtins.len}\n",
    "        2    0.002    0.001    0.002    0.001 {built-in method builtins.print}\n",
    "        1    0.000    0.000    0.000    0.000 {method '__exit__' of '_io._IOBase' objects}\n",
    "      213    0.000    0.000    0.000    0.000 {method 'append' of 'list' objects}\n",
    "        1    0.000    0.000    0.000    0.000 {method 'disable' of '_lsprof.Profiler' objects}\n",
    "        1    0.000    0.000    0.000    0.000 {method 'read' of '_io.TextIOWrapper' objects}\n",
    "```"
   ]
  },
  {
   "cell_type": "markdown",
   "metadata": {},
   "source": [
    "From the above, the backtracking algorithm is what is slowing the speed of my program. I now investigate the backtracking algorithm itself"
   ]
  },
  {
   "cell_type": "code",
   "execution_count": 9,
   "metadata": {},
   "outputs": [],
   "source": [
    "from backtracking import solveBacktrack, validateCell, findEmptyCell\n",
    "from utils import parse_grid\n",
    "\n",
    "with open(\"../test/example_sudokus/hard_sudoku1.txt\", \"r\") as f:\n",
    "    hard_sudoku1 = f.read()\n",
    "\n",
    "with open(\"../test/example_sudokus/hard_sudoku2.txt\", \"r\") as f:\n",
    "    hard_sudoku2 = f.read()\n",
    "\n",
    "with open(\"../test/example_sudokus/hard_sudoku3.txt\", \"r\") as f:\n",
    "    hard_sudoku3 = f.read()\n",
    "\n",
    "hard_sudoku1 = parse_grid(hard_sudoku1)\n",
    "hard_sudoku2 = parse_grid(hard_sudoku2)\n",
    "hard_sudoku3 = parse_grid(hard_sudoku3)"
   ]
  },
  {
   "cell_type": "markdown",
   "metadata": {},
   "source": [
    "Profiling `backtracking.py` gives:\n",
    "\n",
    "```bash\n",
    "(c1_coursework_wp289) C:\\Users\\William Purvis\\OneDrive - University of Cambridge\\DIS\\Michealmas\\RC_coursework\\wp289>python src/backtracking.py\n",
    "         3691778 function calls (3356141 primitive calls) in 8.904 seconds\n",
    "\n",
    "   Ordered by: standard name\n",
    "\n",
    "   ncalls  tottime  percall  cumtime  percall filename:lineno(function)\n",
    "        1    0.000    0.000    8.904    8.904 <string>:1(<module>)\n",
    " 335638/1    1.183    0.000    8.904    8.904 backtracking.py:118(solveBacktrack)\n",
    "  3020499    6.408    0.000    6.408    0.000 backtracking.py:15(validateCell)\n",
    "   335638    1.313    0.000    1.313    0.000 backtracking.py:96(findEmptyCell)\n",
    "        1    0.000    0.000    8.904    8.904 {built-in method builtins.exec}\n",
    "        1    0.000    0.000    0.000    0.000 {method 'disable' of '_lsprof.Profiler' objects}\n",
    "```"
   ]
  },
  {
   "cell_type": "code",
   "execution_count": 16,
   "metadata": {},
   "outputs": [
    {
     "name": "stdout",
     "output_type": "stream",
     "text": [
      "         5 function calls in 0.000 seconds\n",
      "\n",
      "   Ordered by: standard name\n",
      "\n",
      "   ncalls  tottime  percall  cumtime  percall filename:lineno(function)\n",
      "        1    0.000    0.000    0.000    0.000 <string>:1(<module>)\n",
      "        1    0.000    0.000    0.000    0.000 backtracking.py:117(solveBacktrack)\n",
      "        1    0.000    0.000    0.000    0.000 backtracking.py:95(findEmptyCell)\n",
      "        1    0.000    0.000    0.000    0.000 {built-in method builtins.exec}\n",
      "        1    0.000    0.000    0.000    0.000 {method 'disable' of '_lsprof.Profiler' objects}\n",
      "\n",
      "\n"
     ]
    }
   ],
   "source": []
  },
  {
   "cell_type": "code",
   "execution_count": null,
   "metadata": {},
   "outputs": [],
   "source": [
    "import random\n",
    "\n",
    "random.seed(42)\n",
    "\n",
    "\n",
    "def generate_sudokus(n_sudokus: int) -> list[list[int]]:\n",
    "    \"\"\"\n",
    "    Generates a list of n_sudokus sudokus\n",
    "    \"\"\""
   ]
  },
  {
   "cell_type": "code",
   "execution_count": null,
   "metadata": {},
   "outputs": [],
   "source": [
    "def random_puzzle(N=17):\n",
    "    \"\"\"Make a random puzzle with N or more assignments. Restart on contradictions.\n",
    "    Note the resulting puzzle is not guaranteed to be solvable, but empirically\n",
    "    about 99.8% of them are solvable. Some have multiple solutions.\"\"\"\n",
    "    values = dict((s, digits) for s in squares)\n",
    "    for s in shuffled(squares):\n",
    "        if not assign(values, s, random.choice(values[s])):\n",
    "            break\n",
    "        ds = [values[s] for s in squares if len(values[s]) == 1]\n",
    "        if len(ds) >= N and len(set(ds)) >= 8:\n",
    "            return \"\".join(values[s] if len(values[s]) == 1 else \".\" for s in squares)\n",
    "    return random_puzzle(N)  ## Give up and make a new puzzle"
   ]
  }
 ],
 "metadata": {
  "kernelspec": {
   "display_name": "c1_coursework_wp289",
   "language": "python",
   "name": "python3"
  },
  "language_info": {
   "codemirror_mode": {
    "name": "ipython",
    "version": 3
   },
   "file_extension": ".py",
   "mimetype": "text/x-python",
   "name": "python",
   "nbconvert_exporter": "python",
   "pygments_lexer": "ipython3",
   "version": "3.12.0"
  }
 },
 "nbformat": 4,
 "nbformat_minor": 2
}
